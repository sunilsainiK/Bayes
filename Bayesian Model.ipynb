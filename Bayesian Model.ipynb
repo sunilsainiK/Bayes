{
 "cells": [
  {
   "cell_type": "markdown",
   "metadata": {},
   "source": [
    "# Switch Network Using Pymc3"
   ]
  },
  {
   "cell_type": "markdown",
   "metadata": {},
   "source": [
    " __With below network we tried to get idea or the approximation of the life cycle of switch and tried to get the idea of how\n",
    "the different parameter is affecting the life cycle of switches.__\n",
    "\n",
    "\n",
    "\n",
    "\n",
    "\n",
    "__ Why Pymc3__ <br>\n",
    "Pymc3 is developed in python  which support bayesian statistic and probabilitic machine learning with advanced sampling method like monte carlo and Nuts sampling. As most the data scientist  is moving towards python so it quite easy to understand and work on.The fabolus thing with Pymc3 is that it can fit and sample any model regardsless of mathematical validation. Pymc3 can decide by itself which type of sampling method required as per the model and the distribution used in the network. but the only issue with Pymc3 is document is not clear enough for the beginner.  <br>  \n",
    "\n",
    "\n",
    "\n",
    "__ Why Not Pystan__  <br>\n",
    "Pystan provides the  interface to stan. It require python 3.5 or the higher version.Pystan has c++ complier although pythan also used bayesian statitics and probablistic machine learning and  have advanced sampling method HMM, MCMC and ADVI but the real issue is createing the model in pystan is not easy enough and sometime it cause juypter notebook to crash.Second issue is after creating the model we have to choose which sampling method we have to apply which require good understanding of how my ditribution output should behave otherwise the result will be completely wrong.\n",
    "\n",
    "\n",
    "\n",
    "__ Why Not Edward__  <br>\n",
    "\n",
    "Although we can use use directly our Pymc3 and Pytsan model in Edward but the issue with the edward is documentation is not clear at all and example which is given will confused you more  rather than giving you the hint.\n",
    "\n",
    "\n",
    "\n",
    "# But why we need sampling at all if we know the statistic and mathematics approach to solve the probelm\n",
    "\n",
    "First of all the general idea of sampling is to draw every possible outcome of each node and relation between each node\n",
    "which is available in the network and give as approx expectations <br>\n",
    "\n",
    "Now consider we have network which have 4 nodes and every node has 3 possible outcome so there is 3*3*3*3= 81 possibel cases for which we need to calculate posterior probabilty based on different condition like inference  which is time consuming and expensive and in the network where very high number of parameter is involved it will become more compilicated. example electrical engines. <br>\n",
    "\n",
    "\n",
    "The main objective of sampling is to calculate the normalize factor which is integral of likelihood and prior probability on diffrerent probabilty conditions example in 81 cases the normalize factor is 1 but when we apply the inference based on specific given condition probality distribution normalize factor  will not be 1. so we have to again renormalize distribution which we have, depending on the condition and we have to do it multiple time based different conditions But thanks to sampling this things is taken care in different sampling methods <br>\n",
    "\n",
    "\n",
    " \n",
    "__Disadvantage of sampling__\n",
    "\n",
    "Its is slow because we need to draw lots of sample to get good approximation.\n",
    "\n",
    "\n",
    "\n",
    "\n",
    "\n",
    "\n",
    "  \n",
    "__Hint__<br>\n",
    "As with statiscal modelling and probabilistic machine learning the biggest issue is creating the model which make sense not only mathematically also intuitively. but if we have statistical idea about the probelm how to approach it with given data set the result will be more promising. \n"
   ]
  },
  {
   "cell_type": "markdown",
   "metadata": {},
   "source": [
    "# Case Study To Understand Bayesian Hierarchical Model Using Pymc3"
   ]
  },
  {
   "cell_type": "markdown",
   "metadata": {},
   "source": [
    "__To study the bayesian hierarchical model we will take a example of switiching model in electrical pumps__\n",
    " \n",
    " \n",
    " For our case study we will take simple network which include following parameters.\n",
    " 1. Time \n",
    " 2. Temparture\n",
    " 3. Wear\n",
    " 4. Wear Before  \n",
    "\n",
    "by using above parameter we will try to predict the life cycle of the switch.<br>\n",
    "\n",
    "1. Here we get a Time from the user which tell us what is the duration of each switching operation.<br>\n",
    "2. Temparture is depend on the time. example longer the duration of Time higher is the Temparture.<br>\n",
    "3. Now if the Temparture is high it will contribute to the Wear Means higher the Temprature will result higher percentage of    Wear.<br>\n",
    "\n",
    "below you can see the visulaization of the above network which is created using daft package and it will complete the first cycle of the switching operations.\n",
    "\n",
    "\n",
    "\n",
    "\n",
    "\n",
    "\n",
    "\n",
    "\n"
   ]
  },
  {
   "cell_type": "code",
   "execution_count": 2,
   "metadata": {},
   "outputs": [
    {
     "name": "stderr",
     "output_type": "stream",
     "text": [
      "C:\\Users\\DESUSAI\\AppData\\Local\\Continuum\\anaconda3\\lib\\site-packages\\h5py\\__init__.py:36: FutureWarning: Conversion of the second argument of issubdtype from `float` to `np.floating` is deprecated. In future, it will be treated as `np.float64 == np.dtype(float).type`.\n",
      "  from ._conv import register_converters as _register_converters\n"
     ]
    }
   ],
   "source": [
    "# Importing the required packages\n",
    "import pandas as pd\n",
    "import numpy as np\n",
    "import pymc3 as pm\n",
    "import daft\n",
    "import seaborn \n",
    "import matplotlib.pyplot as plt"
   ]
  },
  {
   "cell_type": "code",
   "execution_count": 3,
   "metadata": {},
   "outputs": [
    {
     "data": {
      "image/png": "[encoded data removed]",
      "text/plain": [
       "<matplotlib.figure.Figure at 0xc7faa20>"
      ]
     },
     "metadata": {},
     "output_type": "display_data"
    }
   ],
   "source": [
    "#First Iteration when system is started\n",
    "pgm = daft.PGM([9,6],origin=[1, 0.5])\n",
    "pgm.add_node(daft.Node('Time','Time',3,6,aspect=3))\n",
    "pgm.add_node(daft.Node('Temp','Temp',3,4,aspect=3))\n",
    "pgm.add_node(daft.Node('Wear','Wear',3,2,aspect=3))\n",
    "pgm.add_edge('Time','Temp')\n",
    "pgm.add_edge('Temp','Wear')\n",
    "pgm.render();"
   ]
  },
  {
   "cell_type": "markdown",
   "metadata": {},
   "source": [
    "__1. Now from the second switching operation whose Time we will get again from the user we alreadfy have some Wear in the system which is reponsible for Temprature increase <br>__\n",
    "\n",
    "__2. And the Wear which is already in the system will contribute directly to wear which is going to happen in second switch      operation <br>__\n",
    "\n",
    "\n",
    "   __As you can see below the visualization of the network from second switching operation till the number of operation user      perform or till the network fail.<br>__\n",
    "\n",
    "\n"
   ]
  },
  {
   "cell_type": "code",
   "execution_count": 4,
   "metadata": {
    "scrolled": false
   },
   "outputs": [
    {
     "data": {
      "image/png": "[encoded data removed]",
      "text/plain": [
       "<matplotlib.figure.Figure at 0xc7fa6d8>"
      ]
     },
     "metadata": {},
     "output_type": "display_data"
    }
   ],
   "source": [
    "#from seconnd iteration  till system is down\n",
    "pgm = daft.PGM([9,6],origin=[1, 0.5])\n",
    "pgm.add_node(daft.Node('Time','Time',3,6,aspect=3))\n",
    "pgm.add_node(daft.Node('WBefore','WBefore',5,6,aspect=3))\n",
    "pgm.add_node(daft.Node('Temp','Temp',3,4,aspect=3))\n",
    "pgm.add_node(daft.Node('Wear','Wear',3,2,aspect=3))\n",
    "pgm.add_edge('Time','Temp')\n",
    "pgm.add_edge('WBefore','Temp')\n",
    "pgm.add_edge('WBefore','Wear')\n",
    "pgm.add_edge('Temp','Wear')\n",
    "pgm.render();"
   ]
  },
  {
   "cell_type": "markdown",
   "metadata": {},
   "source": [
    "__Below is the example of data which we using in our network please note here we just using this file for Time of switching operation hence all the other column is not in use and reason is explained above.__ "
   ]
  },
  {
   "cell_type": "code",
   "execution_count": 5,
   "metadata": {},
   "outputs": [
    {
     "data": {
      "text/html": [
       "<div>\n",
       "<style scoped>\n",
       "    .dataframe tbody tr th:only-of-type {\n",
       "        vertical-align: middle;\n",
       "    }\n",
       "\n",
       "    .dataframe tbody tr th {\n",
       "        vertical-align: top;\n",
       "    }\n",
       "\n",
       "    .dataframe thead th {\n",
       "        text-align: right;\n",
       "    }\n",
       "</style>\n",
       "<table border=\"1\" class=\"dataframe\">\n",
       "  <thead>\n",
       "    <tr style=\"text-align: right;\">\n",
       "      <th></th>\n",
       "      <th>Time</th>\n",
       "      <th>Temp</th>\n",
       "      <th>RunningTemp</th>\n",
       "      <th>Wear</th>\n",
       "      <th>Slot</th>\n",
       "    </tr>\n",
       "  </thead>\n",
       "  <tbody>\n",
       "    <tr>\n",
       "      <th>0</th>\n",
       "      <td>1</td>\n",
       "      <td>200</td>\n",
       "      <td>200</td>\n",
       "      <td>16</td>\n",
       "      <td>1</td>\n",
       "    </tr>\n",
       "    <tr>\n",
       "      <th>1</th>\n",
       "      <td>1</td>\n",
       "      <td>100</td>\n",
       "      <td>166</td>\n",
       "      <td>13</td>\n",
       "      <td>2</td>\n",
       "    </tr>\n",
       "    <tr>\n",
       "      <th>2</th>\n",
       "      <td>1</td>\n",
       "      <td>100</td>\n",
       "      <td>166</td>\n",
       "      <td>12</td>\n",
       "      <td>3</td>\n",
       "    </tr>\n",
       "    <tr>\n",
       "      <th>3</th>\n",
       "      <td>1</td>\n",
       "      <td>200</td>\n",
       "      <td>166</td>\n",
       "      <td>20</td>\n",
       "      <td>4</td>\n",
       "    </tr>\n",
       "    <tr>\n",
       "      <th>4</th>\n",
       "      <td>1</td>\n",
       "      <td>100</td>\n",
       "      <td>166</td>\n",
       "      <td>15</td>\n",
       "      <td>5</td>\n",
       "    </tr>\n",
       "  </tbody>\n",
       "</table>\n",
       "</div>"
      ],
      "text/plain": [
       "   Time  Temp  RunningTemp  Wear  Slot\n",
       "0     1   200          200    16     1\n",
       "1     1   100          166    13     2\n",
       "2     1   100          166    12     3\n",
       "3     1   200          166    20     4\n",
       "4     1   100          166    15     5"
      ]
     },
     "execution_count": 5,
     "metadata": {},
     "output_type": "execute_result"
    }
   ],
   "source": [
    "#Importing the file for Time  \n",
    "df = pd.read_csv('C:/Users/DESUSAI/Desktop/New folder/Temp.csv',sep=';')\n",
    "df"
   ]
  },
  {
   "cell_type": "markdown",
   "metadata": {},
   "source": [
    "# Wheather my data has any symmetry and why should i bother about it ?\n"
   ]
  },
  {
   "cell_type": "markdown",
   "metadata": {},
   "source": [
    "Although it is not important at all that your data is symmetric or not . but doing the symmetric test will give you some idea about what kind of distribution we can use while creating the model which is very important for our  predictions.<br>\n",
    "\n",
    "1. if skew is coming 0 then our  data is equally distributed towards positive and negative side. Which also mean our mean is    same as our median.<br>\n",
    "2. if skew is coming -ve  then our  data tailed towards negative side.Now we can say our mean is smaller than our median.  <br>\n",
    "3. if skew is coming +ve then it is  tailed towards positive side.which means mean is higher than median.<br>\n",
    "\n",
    "\n",
    "__Is that reaaly helpful to decide the which distribution should i use ?__\n",
    "\n",
    "The answer is yes. Not exactly but it will give some hints like if data is skewed towards right means whose  Mean towards +ve you cannot apply the distribution whose resulted value may lies in -1 to +1 or -infinity to +infinity.<br> \n",
    "\n",
    "\n",
    "Below is the example of our data skewness ."
   ]
  },
  {
   "cell_type": "code",
   "execution_count": 6,
   "metadata": {},
   "outputs": [
    {
     "data": {
      "text/plain": [
       "Time           0.000000\n",
       "Temp           0.608581\n",
       "RunningTemp    2.236068\n",
       "Wear           0.933451\n",
       "Slot           0.000000\n",
       "dtype: float64"
      ]
     },
     "execution_count": 6,
     "metadata": {},
     "output_type": "execute_result"
    }
   ],
   "source": [
    "df.skew()\n"
   ]
  },
  {
   "cell_type": "markdown",
   "metadata": {},
   "source": [
    "__ Is plotting helpful to decide which distribution we should use  ?__\n",
    "\n",
    "The answer is again yes. by plotting  we can see the behaviour of our Data and can  decide is it expontiallly rising  or it normal distributed  or something else  . but unfortunately in our case we dont have suffcient amount of data and we did not have measurement of any other node  also. all we have is the relation how one  node is connected to another one. and what is the life cycle of switch.<br> \n"
   ]
  },
  {
   "cell_type": "code",
   "execution_count": 7,
   "metadata": {
    "scrolled": true
   },
   "outputs": [
    {
     "data": {
      "image/png": "[encoded data removed]",
      "text/plain": [
       "<matplotlib.figure.Figure at 0xcc7cf28>"
      ]
     },
     "metadata": {},
     "output_type": "display_data"
    }
   ],
   "source": [
    "df.plot()\n",
    "plt.show()"
   ]
  },
  {
   "cell_type": "raw",
   "metadata": {},
   "source": []
  },
  {
   "cell_type": "code",
   "execution_count": 7,
   "metadata": {},
   "outputs": [],
   "source": [
    "def run_network(Maxlife,iterations):\n",
    "    frames = []\n",
    "    loopWear = 0\n",
    "    for i in range(0,iterations):    \n",
    "        model = pm.Model();    \n",
    "        with model:        \n",
    "            Time = pm.Normal('Time',df.Time[i])\n",
    "            Temp = pm.Normal('Temp',mu=Time+loopWear)\n",
    "            wear = pm.Normal('wear',mu=Temp+loopWear)\n",
    "            changedWear= pm.Normal('changedWear',mu=wear-loopWear)\n",
    "            trace = pm.sample(10000,tune=5000,progressbar=True)    \n",
    "            frames.append(pd.DataFrame({\n",
    "                    \"Wear\": trace[\"wear\"][5000:],\n",
    "                    \"temp\": trace[\"Temp\"][5000:],\n",
    "                    \"time\": trace[\"Time\"][5000:],\n",
    "                    \"WearChanged\": trace[\"changedWear\"][5000:]}))         \n",
    "            \n",
    "            loopWear =frames[i].Wear.mean()\n",
    "            print(loopWear)\n",
    "            print(df.Time[i],' sec',round(((Maxlife-loopWear)/Maxlife)*100),'% life is left')\n",
    "     \n",
    "    return frames\n",
    "           \n",
    "        \n",
    "        \n",
    "    \n"
   ]
  },
  {
   "cell_type": "code",
   "execution_count": 8,
   "metadata": {
    "scrolled": false
   },
   "outputs": [
    {
     "name": "stderr",
     "output_type": "stream",
     "text": [
      "Auto-assigning NUTS sampler...\n",
      "Initializing NUTS using jitter+adapt_diag...\n",
      "C:\\Users\\DESUSAI\\AppData\\Local\\Continuum\\anaconda3\\lib\\site-packages\\pymc3\\model.py:384: FutureWarning: Conversion of the second argument of issubdtype from `float` to `np.floating` is deprecated. In future, it will be treated as `np.float64 == np.dtype(float).type`.\n",
      "  if not np.issubdtype(var.dtype, float):\n",
      "100%|███████████████████████████████████| 15000/15000 [00:22<00:00, 675.52it/s]\n"
     ]
    },
    {
     "name": "stdout",
     "output_type": "stream",
     "text": [
      "1.0380174905790733\n",
      "1  sec 100 % life is left\n"
     ]
    },
    {
     "name": "stderr",
     "output_type": "stream",
     "text": [
      "Auto-assigning NUTS sampler...\n",
      "Initializing NUTS using jitter+adapt_diag...\n",
      "C:\\Users\\DESUSAI\\AppData\\Local\\Continuum\\anaconda3\\lib\\site-packages\\pymc3\\model.py:384: FutureWarning: Conversion of the second argument of issubdtype from `float` to `np.floating` is deprecated. In future, it will be treated as `np.float64 == np.dtype(float).type`.\n",
      "  if not np.issubdtype(var.dtype, float):\n",
      "100%|███████████████████████████████████| 15000/15000 [00:22<00:00, 663.06it/s]\n"
     ]
    },
    {
     "name": "stdout",
     "output_type": "stream",
     "text": [
      "3.1241150412700596\n",
      "1  sec 100 % life is left\n"
     ]
    },
    {
     "name": "stderr",
     "output_type": "stream",
     "text": [
      "Auto-assigning NUTS sampler...\n",
      "Initializing NUTS using jitter+adapt_diag...\n",
      "C:\\Users\\DESUSAI\\AppData\\Local\\Continuum\\anaconda3\\lib\\site-packages\\pymc3\\model.py:384: FutureWarning: Conversion of the second argument of issubdtype from `float` to `np.floating` is deprecated. In future, it will be treated as `np.float64 == np.dtype(float).type`.\n",
      "  if not np.issubdtype(var.dtype, float):\n",
      "100%|███████████████████████████████████| 15000/15000 [00:23<00:00, 629.77it/s]\n"
     ]
    },
    {
     "name": "stdout",
     "output_type": "stream",
     "text": [
      "7.323974166423408\n",
      "1  sec 99 % life is left\n"
     ]
    },
    {
     "data": {
      "text/plain": [
       "[          Wear  WearChanged      temp      time\n",
       " 0     4.146075     5.766210  2.896054  3.153520\n",
       " 1     2.371316     1.945796  2.243119  2.474274\n",
       " 2     1.596765    -0.276949  2.089874  1.444618\n",
       " 3     4.073286     2.338508  3.041952  1.419148\n",
       " 4     1.849329     1.927900  0.271756  1.231461\n",
       " 5     0.534112    -0.197774  0.218222  1.194795\n",
       " 6    -0.626486    -0.621286 -0.293288 -0.021611\n",
       " 7    -0.033368    -1.866182  0.947930  1.061396\n",
       " 8    -1.270543    -0.673745 -0.681148  1.144470\n",
       " 9     0.640925    -2.041909  1.891791  1.250619\n",
       " 10   -0.074788     1.872220  0.354329  2.237552\n",
       " 11   -0.074788     1.872220  0.354329  2.237552\n",
       " 12    2.327604     0.436503  2.440691  1.090752\n",
       " 13    0.452691     1.078043  1.732959  1.672710\n",
       " 14    0.206962     0.108911  0.998006  1.298083\n",
       " 15    1.675534     1.992263  0.804244 -0.132797\n",
       " 16    0.424264     0.567952  0.141542  1.446456\n",
       " 17    0.721977    -0.750065  2.172494  2.270712\n",
       " 18   -0.643292    -0.190174  0.317169  1.686589\n",
       " 19   -1.294169    -0.334410  0.776296  1.726323\n",
       " 20   -0.687063    -1.154524  0.804331  2.037215\n",
       " 21   -0.687063    -1.154524  0.804331  2.037215\n",
       " 22   -1.070000    -1.335810  0.535810  2.272134\n",
       " 23    1.393096     2.150449  1.216926  0.325457\n",
       " 24    0.939714     1.113341  0.388076  0.710337\n",
       " 25    1.250530     3.131671  1.824329  1.002609\n",
       " 26   -0.269894    -1.508808  1.129242  2.035123\n",
       " 27    0.205114    -0.861257  0.986685  2.292779\n",
       " 28    0.396226    -0.175033  2.536994  2.337733\n",
       " 29    1.030165     0.922408  0.277515  2.265446\n",
       " ...        ...          ...       ...       ...\n",
       " 4970  0.811100     0.051893  1.799945  3.474374\n",
       " 4971  0.728123     0.701360  0.764882  0.801365\n",
       " 4972 -2.170167    -3.357780 -0.774749 -0.018126\n",
       " 4973 -0.448993    -1.789231 -1.378171 -0.984188\n",
       " 4974  3.451915     3.924248  3.533302  1.443108\n",
       " 4975  0.650322    -0.114709  0.982262  0.827470\n",
       " 4976  0.613707     1.223177  1.276644  0.955807\n",
       " 4977  1.888455     1.643052  0.714933 -0.066110\n",
       " 4978 -0.218135    -0.484966  1.426127  1.405084\n",
       " 4979 -0.014650     1.004111  0.645454  2.276111\n",
       " 4980  0.474095    -0.866367  0.493507  0.634913\n",
       " 4981  2.605120     2.825805  2.492320  1.300261\n",
       " 4982 -0.946252    -0.840325 -0.199732  0.647039\n",
       " 4983 -0.367713    -1.496317 -0.025796  0.302330\n",
       " 4984  0.756269     0.923172  1.618963  0.996673\n",
       " 4985  2.660225     1.125910  2.967058  1.619276\n",
       " 4986 -1.153202    -1.370512  0.541705 -0.347718\n",
       " 4987 -1.201934    -1.764978  1.290823 -0.465400\n",
       " 4988 -2.664320    -2.881218 -0.580393  0.240133\n",
       " 4989  1.487181     0.596924  0.553071 -0.476269\n",
       " 4990  2.049611     2.316110  0.996635  0.141397\n",
       " 4991  1.855307     1.584146  1.214179  0.370676\n",
       " 4992  1.109463     0.963316  0.726582  1.379020\n",
       " 4993  0.186155     0.899847  0.551486  1.168009\n",
       " 4994  1.409677     0.336428  0.069693  0.046905\n",
       " 4995  0.589930     0.652329  0.283232  0.566688\n",
       " 4996  0.217896    -1.114989  0.784072  1.401240\n",
       " 4997  2.226516     2.083634  0.682981  0.750357\n",
       " 4998  2.497968     1.747843 -0.427464  0.740030\n",
       " 4999 -0.553335    -0.766905  1.262222  1.917912\n",
       " \n",
       " [5000 rows x 4 columns],           Wear  WearChanged      temp      time\n",
       " 0     4.313572     3.438038  2.867013  1.166742\n",
       " 1     4.341088     3.327608  2.437654  1.074417\n",
       " 2     5.889552     5.719154  3.797322  3.115854\n",
       " 3     4.437989     3.097094  3.849647  2.417482\n",
       " 4     4.934694     3.912595  3.828812  2.476854\n",
       " 5     0.809650     1.278990 -1.299211 -0.363963\n",
       " 6     4.056782     4.104637  3.956307  2.463283\n",
       " 7     3.950000     3.750421  3.344251  2.858277\n",
       " 8     2.066700     1.622026 -0.185944 -0.423274\n",
       " 9     4.508578     3.973430  3.106511  3.029188\n",
       " 10    3.075741     1.400286  2.103911  0.045631\n",
       " 11    3.568591     3.075160  2.033844  0.326062\n",
       " 12    3.755358     2.928734  2.000349  1.197982\n",
       " 13    3.224665     4.084218  2.343505  1.826027\n",
       " 14    4.941528     2.612370  3.168282  1.350905\n",
       " 15    4.170908     2.907661  1.869129  1.818256\n",
       " 16    1.952327     2.389611  1.472998  1.742366\n",
       " 17    2.445362     1.509171  3.291800  1.291443\n",
       " 18    4.596649     4.996530  3.104545  2.417205\n",
       " 19    0.054307    -0.598065  1.382551 -0.745333\n",
       " 20    2.715584     0.173166  0.764126  0.765865\n",
       " 21    0.117581     0.294597  0.815423  0.724529\n",
       " 22    1.244666     1.590722  1.497644 -0.156128\n",
       " 23    1.732039    -1.515494  0.221180  0.367812\n",
       " 24    1.690390     1.232087  1.154199 -0.108250\n",
       " 25    1.028938     0.756155  1.017900 -0.011154\n",
       " 26    0.355438     0.775769  0.765191  0.245810\n",
       " 27    1.577202     0.082807  0.154272 -0.170950\n",
       " 28    2.690470     2.884921  0.877846 -0.548498\n",
       " 29    5.211282     3.754881  3.716923  3.159709\n",
       " ...        ...          ...       ...       ...\n",
       " 4970  6.180276     3.984023  2.807132  1.082584\n",
       " 4971  2.375922     2.381179  1.375106 -0.299038\n",
       " 4972  2.477797     0.896630  0.454026 -0.586470\n",
       " 4973 -0.193840    -0.920263 -0.048083 -0.071969\n",
       " 4974  5.386664     3.480248  2.921646  2.015450\n",
       " 4975  5.383295     2.763455  2.837015  1.391851\n",
       " 4976  3.205213     4.255035  2.562920  0.674642\n",
       " 4977  3.133620     4.634405  2.444617  0.791268\n",
       " 4978  4.671624     2.866247  1.308434  0.504283\n",
       " 4979  4.734572     4.471686  2.207820  0.989215\n",
       " 4980  4.814484     3.038967  3.726970  1.481723\n",
       " 4981  3.596946     1.142556  2.630428  1.023097\n",
       " 4982  2.105716     1.238590  3.177183  1.224088\n",
       " 4983  2.599655     1.521477  1.458611 -0.052116\n",
       " 4984  2.710226     1.477698  1.490772 -0.301265\n",
       " 4985  3.092069     2.974698  1.323855  0.931925\n",
       " 4986  4.531063     3.990511  3.097283  1.656155\n",
       " 4987  3.546360     2.381032  3.342649  2.245992\n",
       " 4988  3.037843     2.770871  3.807889  2.106609\n",
       " 4989  3.943565     3.401112  1.639799  0.721074\n",
       " 4990  4.567689     4.022724  2.937570  0.674578\n",
       " 4991  2.499058     1.077461  2.161972  1.264103\n",
       " 4992  2.259132     1.867009  0.802727  1.596691\n",
       " 4993  3.222064     1.701291  4.295504  2.200789\n",
       " 4994  3.185388     1.603112  1.854135  2.632518\n",
       " 4995  1.358340     2.021021  1.547895 -1.092762\n",
       " 4996  3.178463     4.024630  3.189619  2.464449\n",
       " 4997  3.770879     2.431377  0.551529 -0.215626\n",
       " 4998  3.812044     1.153809  1.430230 -0.273027\n",
       " 4999  3.049931     3.711601  1.722527  0.210921\n",
       " \n",
       " [5000 rows x 4 columns],            Wear  WearChanged      temp      time\n",
       " 0      7.860261     5.781324  3.814762  2.864540\n",
       " 1      6.623141     3.077001  5.027875 -0.401283\n",
       " 2      6.023823     4.814726  2.870660  2.041479\n",
       " 3      7.101301     2.908284  4.380275  0.661470\n",
       " 4      5.930078     2.574681  4.008455  0.709328\n",
       " 5      6.641137     2.938749  3.727782 -0.077155\n",
       " 6      9.435026     7.101259  4.866037  1.967504\n",
       " 7      9.885841     7.330674  5.728133  0.657328\n",
       " 8      5.924864     2.896650  3.312151 -0.717399\n",
       " 9      4.849401     2.151302  1.208340  0.771783\n",
       " 10     7.776274     4.606916  4.851587  2.076128\n",
       " 11     6.504892     3.590617  4.077418 -0.188618\n",
       " 12     6.504892     3.590617  4.077418 -0.188618\n",
       " 13     7.759558     4.188530  4.047447 -0.778460\n",
       " 14     6.961362     5.207023  2.967924  0.225878\n",
       " 15     8.035329     5.090980  5.669409  1.146762\n",
       " 16     8.168486     5.671981  4.723327  2.419844\n",
       " 17     8.818805     5.267612  6.247443  1.574167\n",
       " 18    10.582568     5.840620  7.503192  1.988368\n",
       " 19     9.833259     7.942138  5.439628  0.997325\n",
       " 20     9.833259     7.942138  5.439628  0.997325\n",
       " 21     8.377867     5.389192  5.364000  1.624432\n",
       " 22     7.000430     4.518767  3.450304  0.563895\n",
       " 23     7.527339     3.522508  3.723135  0.374321\n",
       " 24     7.527339     3.522508  3.723135  0.374321\n",
       " 25    10.262171     6.442243  6.049299  1.305315\n",
       " 26    10.199741     6.770224  7.033594  2.093497\n",
       " 27    10.413015     8.383911  5.392139  1.571521\n",
       " 28     5.197058     0.958031  3.023703 -0.756709\n",
       " 29     4.905633     1.330857  2.889163 -0.672722\n",
       " ...         ...          ...       ...       ...\n",
       " 4970   7.833407     3.626925  3.822544  0.799584\n",
       " 4971  10.618755     7.963597  7.384458  2.836470\n",
       " 4972   9.408151     7.286611  4.905367  2.651208\n",
       " 4973   7.333955     2.734832  5.779748  0.547761\n",
       " 4974   8.519063     7.332661  3.444491  1.201649\n",
       " 4975   6.015588     2.845605  4.841832  1.359398\n",
       " 4976   8.464193     5.394276  5.080988  2.539364\n",
       " 4977   9.147026     5.481540  4.669620  2.763030\n",
       " 4978   6.877640     3.023208  3.887649  0.670754\n",
       " 4979   8.693144     5.678495  5.143117  1.607890\n",
       " 4980   7.389842     3.257584  2.910052  0.401752\n",
       " 4981   7.067387     3.248273  3.792751  0.583429\n",
       " 4982   8.429816     4.346441  5.225655  1.366149\n",
       " 4983   8.001781     5.826954  4.352734  0.943401\n",
       " 4984   8.230913     5.294557  4.437781  0.987289\n",
       " 4985   8.443363     5.173054  4.489613  0.450472\n",
       " 4986   8.443363     5.173054  4.489613  0.450472\n",
       " 4987   8.032764     6.948224  3.604623  0.651071\n",
       " 4988   8.763960     5.212770  4.556352  0.249643\n",
       " 4989   9.848245     7.309885  6.429546  3.020709\n",
       " 4990   9.050174     4.657960  6.372056  1.296376\n",
       " 4991   6.089082     1.748332  3.856500 -0.357988\n",
       " 4992   5.177983     1.164621  3.491039 -1.151372\n",
       " 4993   4.799662     2.131446  2.198862 -0.520001\n",
       " 4994   4.656712     1.680043  2.791602  0.984975\n",
       " 4995   5.503857     1.763846  2.128285  1.002537\n",
       " 4996   4.262702     1.857552  2.759464  0.703872\n",
       " 4997   6.820038     3.635320  4.435039  0.110113\n",
       " 4998   8.072441     3.417504  5.033554  1.585157\n",
       " 4999   7.647790     5.374695  4.876645  3.100858\n",
       " \n",
       " [5000 rows x 4 columns]]"
      ]
     },
     "execution_count": 8,
     "metadata": {},
     "output_type": "execute_result"
    }
   ],
   "source": [
    "run_network(1000,3)"
   ]
  },
  {
   "cell_type": "code",
   "execution_count": null,
   "metadata": {},
   "outputs": [],
   "source": []
  },
  {
   "cell_type": "code",
   "execution_count": null,
   "metadata": {},
   "outputs": [],
   "source": []
  }
 ],
 "metadata": {
  "kernelspec": {
   "display_name": "Python 3",
   "language": "python",
   "name": "python3"
  },
  "language_info": {
   "codemirror_mode": {
    "name": "ipython",
    "version": 3
   },
   "file_extension": ".py",
   "mimetype": "text/x-python",
   "name": "python",
   "nbconvert_exporter": "python",
   "pygments_lexer": "ipython3",
   "version": "3.6.4"
  }
 },
 "nbformat": 4,
 "nbformat_minor": 2
}
